{
 "cells": [
  {
   "cell_type": "code",
   "execution_count": 8,
   "metadata": {},
   "outputs": [
    {
     "name": "stdout",
     "output_type": "stream",
     "text": [
      "2019102168\n",
      "20001130\n",
      "Melody\n"
     ]
    }
   ],
   "source": [
    "class MySelfClass:\n",
    "    def getStudentID(self):\n",
    "        ID = '2019102168'\n",
    "        return ID\n",
    "    def getBirthday(self):\n",
    "        Birth = '20001130'\n",
    "        return Birth\n",
    "    def getTermProject(self):\n",
    "        Term = 'Melody'\n",
    "        return Term"
   ]
  },
  {
   "cell_type": "code",
   "execution_count": 22,
   "metadata": {},
   "outputs": [
    {
     "name": "stdout",
     "output_type": "stream",
     "text": [
      "4\n",
      "5\n",
      "5\n"
     ]
    }
   ],
   "source": [
    "class IntegerAccumulator:\n",
    "    intlist = []\n",
    "    ave = 0\n",
    "    def getNewInteger(self, newint):\n",
    "        self.getAccumulatedIntegrers().append(newint)\n",
    "        return self.getAverage()\n",
    "    def getAccumulatedIntegrers(self):\n",
    "        return self.intlist\n",
    "    def getAverage(self):\n",
    "        many = 0\n",
    "        tot = 0\n",
    "        for i in self.intlist:\n",
    "            tot += i\n",
    "            many += 1\n",
    "        self.ave = int(tot / many)\n",
    "        return self.ave"
   ]
  },
  {
   "cell_type": "code",
   "execution_count": 47,
   "metadata": {},
   "outputs": [
    {
     "name": "stdout",
     "output_type": "stream",
     "text": [
      "35\n",
      "30\n"
     ]
    }
   ],
   "source": [
    "def calcIntegerFromString(numstring):\n",
    "    tot = 0\n",
    "    numin = [0, 0, 0, 0, 0, 0, 0, 0, 0, 0]\n",
    "    num = ['0', '1', '2', '3', '4', '5', '6', '7', '8', '9']\n",
    "    index = 0\n",
    "    for i in numstring:\n",
    "        for j in num:\n",
    "            if i == j:\n",
    "                numin[int(j)] += 1\n",
    "    for i in numin:\n",
    "        tot += i * index\n",
    "        index += 1\n",
    "    return tot\n"
   ]
  },
  {
   "cell_type": "code",
   "execution_count": 38,
   "metadata": {},
   "outputs": [
    {
     "name": "stdout",
     "output_type": "stream",
     "text": [
      "bcdefa\n"
     ]
    }
   ],
   "source": [
    "def shiftStringLeft(origin_string):\n",
    "    new_string = ''\n",
    "    new_string += origin_string[1:]\n",
    "    new_string += origin_string[0]\n",
    "    return new_string\n"
   ]
  },
  {
   "cell_type": "code",
   "execution_count": 48,
   "metadata": {},
   "outputs": [
    {
     "name": "stdout",
     "output_type": "stream",
     "text": [
      "4\n",
      "d\n",
      "['a', 'b', 'c', 'd']\n",
      "['b', 'a', 'd', 'c']\n"
     ]
    }
   ],
   "source": [
    "class StringAccumulator:\n",
    "    strlist = []\n",
    "    tot = 0\n",
    "    def putNewString(self, newstr):\n",
    "        self.tot += 1\n",
    "        self.strlist.append(newstr)\n",
    "        return self.tot\n",
    "    def getMaxString(self):\n",
    "        a = sorted(self.strlist)\n",
    "        return a[-1]\n",
    "    def getSortedStrings(self):\n",
    "        return sorted(self.strlist)\n",
    "    def getOriginalStrings(self):\n",
    "        return self.strlist"
   ]
  },
  {
   "cell_type": "code",
   "execution_count": 44,
   "metadata": {},
   "outputs": [
    {
     "name": "stdout",
     "output_type": "stream",
     "text": [
      "Starting simple_httpd on port: 9000\n"
     ]
    },
    {
     "ename": "KeyboardInterrupt",
     "evalue": "",
     "output_type": "error",
     "traceback": [
      "\u001b[1;31m---------------------------------------------------------------------------\u001b[0m",
      "\u001b[1;31mKeyboardInterrupt\u001b[0m                         Traceback (most recent call last)",
      "\u001b[1;32m<ipython-input-44-64fb7fb0410f>\u001b[0m in \u001b[0;36m<module>\u001b[1;34m\u001b[0m\n\u001b[0;32m     15\u001b[0m \u001b[0mhttpd\u001b[0m \u001b[1;33m=\u001b[0m \u001b[0mHTTPServer\u001b[0m\u001b[1;33m(\u001b[0m\u001b[1;33m(\u001b[0m\u001b[1;34m''\u001b[0m\u001b[1;33m,\u001b[0m \u001b[0mport\u001b[0m\u001b[1;33m)\u001b[0m\u001b[1;33m,\u001b[0m \u001b[0mtestHTTPServer_RequestHandler\u001b[0m\u001b[1;33m)\u001b[0m\u001b[1;33m\u001b[0m\u001b[1;33m\u001b[0m\u001b[0m\n\u001b[0;32m     16\u001b[0m \u001b[0mprint\u001b[0m\u001b[1;33m(\u001b[0m\u001b[1;34m\"Starting simple_httpd on port: \"\u001b[0m \u001b[1;33m+\u001b[0m \u001b[0mstr\u001b[0m\u001b[1;33m(\u001b[0m\u001b[0mhttpd\u001b[0m\u001b[1;33m.\u001b[0m\u001b[0mserver_port\u001b[0m\u001b[1;33m)\u001b[0m\u001b[1;33m)\u001b[0m\u001b[1;33m\u001b[0m\u001b[1;33m\u001b[0m\u001b[0m\n\u001b[1;32m---> 17\u001b[1;33m \u001b[0mhttpd\u001b[0m\u001b[1;33m.\u001b[0m\u001b[0mserve_forever\u001b[0m\u001b[1;33m(\u001b[0m\u001b[1;33m)\u001b[0m\u001b[1;33m\u001b[0m\u001b[1;33m\u001b[0m\u001b[0m\n\u001b[0m\u001b[0;32m     18\u001b[0m \u001b[1;33m\u001b[0m\u001b[0m\n",
      "\u001b[1;32m~\\Anaconda3\\lib\\socketserver.py\u001b[0m in \u001b[0;36mserve_forever\u001b[1;34m(self, poll_interval)\u001b[0m\n\u001b[0;32m    230\u001b[0m \u001b[1;33m\u001b[0m\u001b[0m\n\u001b[0;32m    231\u001b[0m                 \u001b[1;32mwhile\u001b[0m \u001b[1;32mnot\u001b[0m \u001b[0mself\u001b[0m\u001b[1;33m.\u001b[0m\u001b[0m__shutdown_request\u001b[0m\u001b[1;33m:\u001b[0m\u001b[1;33m\u001b[0m\u001b[1;33m\u001b[0m\u001b[0m\n\u001b[1;32m--> 232\u001b[1;33m                     \u001b[0mready\u001b[0m \u001b[1;33m=\u001b[0m \u001b[0mselector\u001b[0m\u001b[1;33m.\u001b[0m\u001b[0mselect\u001b[0m\u001b[1;33m(\u001b[0m\u001b[0mpoll_interval\u001b[0m\u001b[1;33m)\u001b[0m\u001b[1;33m\u001b[0m\u001b[1;33m\u001b[0m\u001b[0m\n\u001b[0m\u001b[0;32m    233\u001b[0m                     \u001b[1;32mif\u001b[0m \u001b[0mready\u001b[0m\u001b[1;33m:\u001b[0m\u001b[1;33m\u001b[0m\u001b[1;33m\u001b[0m\u001b[0m\n\u001b[0;32m    234\u001b[0m                         \u001b[0mself\u001b[0m\u001b[1;33m.\u001b[0m\u001b[0m_handle_request_noblock\u001b[0m\u001b[1;33m(\u001b[0m\u001b[1;33m)\u001b[0m\u001b[1;33m\u001b[0m\u001b[1;33m\u001b[0m\u001b[0m\n",
      "\u001b[1;32m~\\Anaconda3\\lib\\selectors.py\u001b[0m in \u001b[0;36mselect\u001b[1;34m(self, timeout)\u001b[0m\n\u001b[0;32m    321\u001b[0m         \u001b[0mready\u001b[0m \u001b[1;33m=\u001b[0m \u001b[1;33m[\u001b[0m\u001b[1;33m]\u001b[0m\u001b[1;33m\u001b[0m\u001b[1;33m\u001b[0m\u001b[0m\n\u001b[0;32m    322\u001b[0m         \u001b[1;32mtry\u001b[0m\u001b[1;33m:\u001b[0m\u001b[1;33m\u001b[0m\u001b[1;33m\u001b[0m\u001b[0m\n\u001b[1;32m--> 323\u001b[1;33m             \u001b[0mr\u001b[0m\u001b[1;33m,\u001b[0m \u001b[0mw\u001b[0m\u001b[1;33m,\u001b[0m \u001b[0m_\u001b[0m \u001b[1;33m=\u001b[0m \u001b[0mself\u001b[0m\u001b[1;33m.\u001b[0m\u001b[0m_select\u001b[0m\u001b[1;33m(\u001b[0m\u001b[0mself\u001b[0m\u001b[1;33m.\u001b[0m\u001b[0m_readers\u001b[0m\u001b[1;33m,\u001b[0m \u001b[0mself\u001b[0m\u001b[1;33m.\u001b[0m\u001b[0m_writers\u001b[0m\u001b[1;33m,\u001b[0m \u001b[1;33m[\u001b[0m\u001b[1;33m]\u001b[0m\u001b[1;33m,\u001b[0m \u001b[0mtimeout\u001b[0m\u001b[1;33m)\u001b[0m\u001b[1;33m\u001b[0m\u001b[1;33m\u001b[0m\u001b[0m\n\u001b[0m\u001b[0;32m    324\u001b[0m         \u001b[1;32mexcept\u001b[0m \u001b[0mInterruptedError\u001b[0m\u001b[1;33m:\u001b[0m\u001b[1;33m\u001b[0m\u001b[1;33m\u001b[0m\u001b[0m\n\u001b[0;32m    325\u001b[0m             \u001b[1;32mreturn\u001b[0m \u001b[0mready\u001b[0m\u001b[1;33m\u001b[0m\u001b[1;33m\u001b[0m\u001b[0m\n",
      "\u001b[1;32m~\\Anaconda3\\lib\\selectors.py\u001b[0m in \u001b[0;36m_select\u001b[1;34m(self, r, w, _, timeout)\u001b[0m\n\u001b[0;32m    312\u001b[0m     \u001b[1;32mif\u001b[0m \u001b[0msys\u001b[0m\u001b[1;33m.\u001b[0m\u001b[0mplatform\u001b[0m \u001b[1;33m==\u001b[0m \u001b[1;34m'win32'\u001b[0m\u001b[1;33m:\u001b[0m\u001b[1;33m\u001b[0m\u001b[1;33m\u001b[0m\u001b[0m\n\u001b[0;32m    313\u001b[0m         \u001b[1;32mdef\u001b[0m \u001b[0m_select\u001b[0m\u001b[1;33m(\u001b[0m\u001b[0mself\u001b[0m\u001b[1;33m,\u001b[0m \u001b[0mr\u001b[0m\u001b[1;33m,\u001b[0m \u001b[0mw\u001b[0m\u001b[1;33m,\u001b[0m \u001b[0m_\u001b[0m\u001b[1;33m,\u001b[0m \u001b[0mtimeout\u001b[0m\u001b[1;33m=\u001b[0m\u001b[1;32mNone\u001b[0m\u001b[1;33m)\u001b[0m\u001b[1;33m:\u001b[0m\u001b[1;33m\u001b[0m\u001b[1;33m\u001b[0m\u001b[0m\n\u001b[1;32m--> 314\u001b[1;33m             \u001b[0mr\u001b[0m\u001b[1;33m,\u001b[0m \u001b[0mw\u001b[0m\u001b[1;33m,\u001b[0m \u001b[0mx\u001b[0m \u001b[1;33m=\u001b[0m \u001b[0mselect\u001b[0m\u001b[1;33m.\u001b[0m\u001b[0mselect\u001b[0m\u001b[1;33m(\u001b[0m\u001b[0mr\u001b[0m\u001b[1;33m,\u001b[0m \u001b[0mw\u001b[0m\u001b[1;33m,\u001b[0m \u001b[0mw\u001b[0m\u001b[1;33m,\u001b[0m \u001b[0mtimeout\u001b[0m\u001b[1;33m)\u001b[0m\u001b[1;33m\u001b[0m\u001b[1;33m\u001b[0m\u001b[0m\n\u001b[0m\u001b[0;32m    315\u001b[0m             \u001b[1;32mreturn\u001b[0m \u001b[0mr\u001b[0m\u001b[1;33m,\u001b[0m \u001b[0mw\u001b[0m \u001b[1;33m+\u001b[0m \u001b[0mx\u001b[0m\u001b[1;33m,\u001b[0m \u001b[1;33m[\u001b[0m\u001b[1;33m]\u001b[0m\u001b[1;33m\u001b[0m\u001b[1;33m\u001b[0m\u001b[0m\n\u001b[0;32m    316\u001b[0m     \u001b[1;32melse\u001b[0m\u001b[1;33m:\u001b[0m\u001b[1;33m\u001b[0m\u001b[1;33m\u001b[0m\u001b[0m\n",
      "\u001b[1;31mKeyboardInterrupt\u001b[0m: "
     ]
    }
   ],
   "source": [
    "from http.server import SimpleHTTPRequestHandler, HTTPServer\n",
    "from urllib.parse import parse_qs, urlparse\n",
    "import socket\n",
    "\n",
    "# Client: http://localhost:9000\n",
    "class HttpVisitCounter:\n",
    "    def startHttpServer(string):\n",
    "        HOST, PORT = '', 9000\n",
    "        listen_socket = socket.socket(socket.AF_INET, socket.SOCK_STREAM)\n",
    "        listen_socket.setsockopt(socket.SOL_SOCKET, socket.SO_REUSEADDR, 1)\n",
    "        listen_socket.bind((HOST, PORT))\n",
    "        listen_socket.listen(1)\n",
    "        print ('Serving HTTP on port', PORT, '...')\n",
    "        while True:\n",
    "            client_connection, client_address = listen_socket.accept()\n",
    "            request = str(client_connection.recv(1024),'utf-8')\n",
    "            print (request)\n",
    "\n",
    "            http_response = \"\"\"\\\n",
    "        HTTP/1.1 200 OK\n",
    "\n",
    "        Hello world!\n",
    "        \"\"\"\n",
    "            http_response = \"\"\"\\\n",
    "        HTTP/1.1 200 OK\n",
    "\n",
    "        Hello world!\n",
    "        \"\"\"\n",
    "            clien_connection.\n",
    "            client_connection.sendall(bytes(http_response,'utf-8'))\n",
    "            client_connection.close()\n",
    "\n"
   ]
  },
  {
   "cell_type": "code",
   "execution_count": 43,
   "metadata": {},
   "outputs": [],
   "source": [
    "#답변8-A : 저는 실습자료가 가장 도움이 많이 됐습니다. 보통 다른 코딩 강의의 경우, 단순히 강의를 한 후 과제를 낸 후 이를 피드백 없이 점수를 주는 형태로 끝나기 마련인데, \n",
    "#웹파이선강의의 경우에는, 수업영상을 제공하고, 이에 같이 따라할 수 있는 실습자료를 제공하면서, 어렵지 않은 실습 문제를 풀면서\n",
    "#파이선에 대한 흥미와 재미를 끊기지 않게 하고 코딩에 재미를 붙이게 해주는 과정을 통해 \n",
    "#다소 어려울 수 있는 내용인 파이선 강좌를 잘 따라올 수 있게 해주었다고 생각합니다.\n",
    "#개선을 바라는 점은 실습자료에 어려운 난이도의 문제가 조금 더 많이 추가되어 중간고사와 기말고사를 수시로 대비할 수 있게 해주시면 좋을 것 같습니다."
   ]
  },
  {
   "cell_type": "code",
   "execution_count": 50,
   "metadata": {},
   "outputs": [],
   "source": [
    "#답변8-B: 저는 반대하는 입장입니다. 그 배경은, 날로 첨단화 되어 가는 우리 사회에서 코딩은 더 이상 비전공자라고 안 할수가 없는 환경이 구축되어 가고 있습니다.\n",
    "#따라서, 전공자인 제 입장에서도, 비전공자들이 코딩과목을 수료하는 것은 정말 좋은 방향의 학부지침이라고 생각합니다.\n",
    "#하지만, 학교에서 교양강좌로 SW강좌를 개설하는 점과 코딩 특성상 하고자 하는 의지만 있다면 인터넷을 통해서 충분히 쉽게 접근할 수 있는 점\n",
    "#등을 들어 코딩을 하고 싶은 사람들은 여러 다른 방법이 있다는 것을 알 수 있습니다.\n",
    "#따라서 저는, 웹 파이선 프로그래밍을 이렇게나 많은 타전공자들에게 참여 기회를 주는 것은 전공자들에 대한 역차별이라고 생각합니다.\n",
    "#그 이유는, 웹 파이선 프로그래밍은 저희 학부의 전공필수 과목이라는 점, 조교분들은 대다수가 저희 학부생이신데 같은 학부생으로 커넥션을 만들 수 있는 시간을 \n",
    "#많은 수강생이 있어 조교분들이 이에 부응해야 하기에 바빠져 커넥션을 쉽사리 만들 수 없는 점과 전공자들이 재수강을 할 때에 많은 수의\n",
    "#타과생들과 경쟁을 해야 하는 점등이 있습니다."
   ]
  }
 ],
 "metadata": {
  "kernelspec": {
   "display_name": "Python 3",
   "language": "python",
   "name": "python3"
  },
  "language_info": {
   "codemirror_mode": {
    "name": "ipython",
    "version": 3
   },
   "file_extension": ".py",
   "mimetype": "text/x-python",
   "name": "python",
   "nbconvert_exporter": "python",
   "pygments_lexer": "ipython3",
   "version": "3.7.1"
  }
 },
 "nbformat": 4,
 "nbformat_minor": 2
}
